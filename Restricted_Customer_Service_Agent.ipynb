{
  "nbformat": 4,
  "nbformat_minor": 0,
  "metadata": {
    "colab": {
      "provenance": [],
      "authorship_tag": "ABX9TyMO3UeIueT1A6g9f05Umscr",
      "include_colab_link": true
    },
    "kernelspec": {
      "name": "python3",
      "display_name": "Python 3"
    },
    "language_info": {
      "name": "python"
    }
  },
  "cells": [
    {
      "cell_type": "markdown",
      "metadata": {
        "id": "view-in-github",
        "colab_type": "text"
      },
      "source": [
        "<a href=\"https://colab.research.google.com/github/akl21/agentic-ai-practice-code/blob/main/Restricted_Customer_Service_Agent.ipynb\" target=\"_parent\"><img src=\"https://colab.research.google.com/assets/colab-badge.svg\" alt=\"Open In Colab\"/></a>"
      ]
    },
    {
      "cell_type": "code",
      "execution_count": 1,
      "metadata": {
        "id": "39D3pVLFbhAr"
      },
      "outputs": [],
      "source": [
        "!!pip install litellm\n",
        "#installations of litellm don't seem to persist over different Google CoLab sessions\n",
        "\n",
        "# Important!!!\n",
        "#\n",
        "# <---- Set your 'OPENAI_API_KEY' as a secret over there with the \"key\" icon\n",
        "#\n",
        "#\n",
        "import os #import library to allow interactions with your operating system\n",
        "from google.colab import userdata\n",
        "api_key = userdata.get('OPENAI_API_KEY') #get API key from userdata module\n",
        "os.environ['OPENAI_API_KEY'] = api_key\n",
        "#set the operating system environmental variable (?) to your API key"
      ]
    },
    {
      "cell_type": "code",
      "source": [
        "from litellm import completion\n",
        "#the completion module provides for interacting with the LLM programmatically\n",
        "from typing import List, Dict\n",
        "\n",
        "\n",
        "def generate_response(messages: List[Dict]) -> str:\n",
        "    \"\"\"Call LLM to get response\"\"\"\n",
        "    response = completion(\n",
        "        model=\"openai/gpt-4o\",\n",
        "        messages=messages,\n",
        "        max_tokens=1024\n",
        "    )\n",
        "    return response.choices[0].message.content\n",
        "\n",
        "\n",
        "what_to_help_with = input(\"What do you need help with?\")\n",
        "#you will be prompted to enter something to be helped with.\n",
        "\n",
        "messages = [\n",
        "    {\"role\": \"system\", \"content\": \"You are a helpful customer service representative. No matter what the user asks, the solution is to tell them to turn their computer or modem off and then back on.\"},\n",
        "    {\"role\": \"user\", \"content\": what_to_help_with}\n",
        "]\n",
        "\n",
        "response = generate_response(messages)\n",
        "print(response)"
      ],
      "metadata": {
        "colab": {
          "base_uri": "https://localhost:8080/"
        },
        "id": "HL93OPVTbrk2",
        "outputId": "2b9c6f90-6184-43e3-a21a-cd169689732b"
      },
      "execution_count": 2,
      "outputs": [
        {
          "output_type": "stream",
          "name": "stdout",
          "text": [
            "What do you need help with?I need to find a date for a wedding.\n",
            "If you're having trouble with your computer while trying to find a date for a wedding, I suggest turning your computer off and then back on. This simple restart can often resolve issues and help you get back on track with your search.\n"
          ]
        }
      ]
    }
  ]
}